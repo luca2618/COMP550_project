{
 "cells": [
  {
   "cell_type": "code",
   "execution_count": 1,
   "metadata": {},
   "outputs": [],
   "source": [
    "from gensim.models import KeyedVectors\n",
    "import matplotlib.pyplot as plt\n",
    "from semaxis import *\n",
    "import numpy as np\n",
    "\n",
    "# Path to the pretrained Word2Vec model file\n",
    "pretrained_model_path = './datasets/GoogleNews-vectors-negative300.bin'\n",
    "\n",
    "# Load the Word2Vec model\n",
    "word2vec_model = KeyedVectors.load_word2vec_format(pretrained_model_path, binary=True)"
   ]
  },
  {
   "cell_type": "code",
   "execution_count": 84,
   "metadata": {},
   "outputs": [
    {
     "name": "stdout",
     "output_type": "stream",
     "text": [
      "Embedding for \"cake\": [-0.15332031 -0.17089844 -0.03100586  0.21972656  0.1328125 ] ...\n",
      "Similar words to \"woman\": [('man', 0.7664012908935547), ('girl', 0.7494640946388245), ('teenage_girl', 0.7336829900741577), ('teenager', 0.631708562374115), ('lady', 0.6288785934448242)]\n"
     ]
    }
   ],
   "source": [
    "# Example usage\n",
    "word_embedding = word2vec_model['cake']\n",
    "print(f'Embedding for \"cake\": {word_embedding[:5]} ...')\n",
    "\n",
    "# Find similar words\n",
    "similar_words = word2vec_model.most_similar('woman', topn=5)\n",
    "print(f'Similar words to \"woman\": {similar_words}')"
   ]
  },
  {
   "cell_type": "code",
   "execution_count": 37,
   "metadata": {},
   "outputs": [
    {
     "name": "stdout",
     "output_type": "stream",
     "text": [
      "-0.6411134600639343\n"
     ]
    }
   ],
   "source": [
    "axis_words = [\"evil\",\"good\"]\n",
    "axis = transform_antonym_to_axis(word2vec_model,axis_words,10)\n",
    "print(cosine_similarity(word2vec_model[\"evil\"],axis))\n"
   ]
  },
  {
   "cell_type": "code",
   "execution_count": 65,
   "metadata": {},
   "outputs": [],
   "source": [
    "x = np.char.lower(np.loadtxt(\"axis.csv\", dtype=str, delimiter=\",\"))"
   ]
  },
  {
   "cell_type": "code",
   "execution_count": 79,
   "metadata": {},
   "outputs": [],
   "source": [
    "def plot_line_graphs(categories):\n",
    "    \"\"\"\n",
    "    Plot line graphs for multiple categories using matplotlib with tilted x-axis labels and different colors.\n",
    "\n",
    "    Parameters:\n",
    "    - categories (list of tuples): Each tuple contains a category name, a list of value names, and a list of values.\n",
    "\n",
    "    Returns:\n",
    "    - None\n",
    "    \"\"\"\n",
    "    # Define a list of colors for each category\n",
    "    colors = ['b', 'g', 'r', 'c', 'm', 'y', 'k']\n",
    "\n",
    "    # Plotting line graphs for each category\n",
    "    for i, (category, names, values) in enumerate(categories):\n",
    "        plt.plot(names, values, marker='o', linestyle='-', label=category, color=colors[i])\n",
    "\n",
    "    # Adding labels and title\n",
    "    plt.xlabel('Names')\n",
    "    plt.ylabel('Values')\n",
    "    plt.title('Line Graphs with Different Colors')\n",
    "    \n",
    "    # Tilt x-axis labels for better readability\n",
    "    plt.xticks(rotation=45, ha='right')\n",
    "\n",
    "    # Display legend\n",
    "    plt.legend()\n",
    "\n",
    "    # Show the plot\n",
    "    plt.show()\n",
    "\n",
    "# # Example usage:\n",
    "# categories_data = [\n",
    "#     ('Category 1', ['Label A', 'Label B', 'Label C', 'Label D', 'Label E'], [10, 20, 15, 25, 30]),\n",
    "#     ('Category 2', ['Label F', 'Label G', 'Label H', 'Label I', 'Label J'], [5, 15, 10, 20, 25]),\n",
    "# ]\n",
    "\n",
    "# plot_line_graphs(categories_data)\n"
   ]
  }
 ],
 "metadata": {
  "kernelspec": {
   "display_name": "NPL",
   "language": "python",
   "name": "python3"
  },
  "language_info": {
   "name": "python",
   "version": "3.11.4"
  }
 },
 "nbformat": 4,
 "nbformat_minor": 2
}
