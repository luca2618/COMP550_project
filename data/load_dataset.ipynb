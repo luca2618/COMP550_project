{
  "nbformat": 4,
  "nbformat_minor": 0,
  "metadata": {
    "colab": {
      "provenance": [],
      "include_colab_link": true
    },
    "kernelspec": {
      "name": "python3",
      "display_name": "Python 3"
    },
    "language_info": {
      "name": "python"
    }
  },
  "cells": [
    {
      "cell_type": "markdown",
      "metadata": {
        "id": "view-in-github",
        "colab_type": "text"
      },
      "source": [
        "<a href=\"https://colab.research.google.com/github/luca2618/COMP550_project/blob/main/data/load_dataset.ipynb\" target=\"_parent\"><img src=\"https://colab.research.google.com/assets/colab-badge.svg\" alt=\"Open In Colab\"/></a>"
      ]
    },
    {
      "cell_type": "markdown",
      "source": [
        "# Setup"
      ],
      "metadata": {
        "id": "Il4s_vHhFaj1"
      }
    },
    {
      "cell_type": "code",
      "execution_count": 1,
      "metadata": {
        "id": "nKJMJPjMzJj6"
      },
      "outputs": [],
      "source": [
        "### importing libraries\n",
        "\n",
        "# basic libraries\n",
        "import pandas as pd\n",
        "\n",
        "# to download files\n",
        "from google.colab import files"
      ]
    },
    {
      "cell_type": "markdown",
      "source": [
        "# Importing dataset"
      ],
      "metadata": {
        "id": "1jFpPaq5PE03"
      }
    },
    {
      "cell_type": "code",
      "source": [
        "# cloning github repo\n",
        "!git clone https://github.com/luca2618/COMP550_project"
      ],
      "metadata": {
        "colab": {
          "base_uri": "https://localhost:8080/"
        },
        "id": "qw7OFWqMcn0e",
        "outputId": "aa7037f9-d073-475b-f54c-2983d27f478a"
      },
      "execution_count": 2,
      "outputs": [
        {
          "output_type": "stream",
          "name": "stdout",
          "text": [
            "Cloning into 'COMP550_project'...\n",
            "remote: Enumerating objects: 17, done.\u001b[K\n",
            "remote: Total 17 (delta 0), reused 0 (delta 0), pack-reused 17\u001b[K\n",
            "Receiving objects: 100% (17/17), 67.79 MiB | 39.42 MiB/s, done.\n",
            "Resolving deltas: 100% (4/4), done.\n"
          ]
        }
      ]
    },
    {
      "cell_type": "code",
      "source": [
        "# unzipping dataset and saving it in a dataframe\n",
        "!unzip COMP550_project/data/goodreads_reviews_dataset.csv.zip"
      ],
      "metadata": {
        "colab": {
          "base_uri": "https://localhost:8080/"
        },
        "id": "y3I5o9aVP3YQ",
        "outputId": "609d2cc5-df58-418e-e142-388b1e1d52f0"
      },
      "execution_count": 3,
      "outputs": [
        {
          "output_type": "stream",
          "name": "stdout",
          "text": [
            "Archive:  COMP550_project/data/goodreads_reviews_dataset.csv.zip\n",
            "  inflating: goodreads_reviews_dataset.csv  \n"
          ]
        }
      ]
    },
    {
      "cell_type": "code",
      "source": [
        "reviews_df = pd.read_csv('goodreads_reviews_dataset.csv')"
      ],
      "metadata": {
        "id": "es9ixL9UgH_x"
      },
      "execution_count": 5,
      "outputs": []
    },
    {
      "cell_type": "markdown",
      "source": [
        "# Data overview"
      ],
      "metadata": {
        "id": "6is_oXJrcucw"
      }
    },
    {
      "cell_type": "code",
      "source": [
        "### counting genders of protagonists\n",
        "\n",
        "genders = reviews_df['PROTAGONIST'].values.tolist()\n",
        "\n",
        "print(f'Female-led: {genders.count(\"F\")}')\n",
        "print(f'Male-led: {genders.count(\"M\")}')\n",
        "print(f'Other: {genders.count(\"Various (M and F)\")}')\n",
        "\n",
        "print(f'\\nTotal reviews: {len(genders)}')"
      ],
      "metadata": {
        "colab": {
          "base_uri": "https://localhost:8080/"
        },
        "id": "usw1su6R2w8N",
        "outputId": "6411c4c0-8ad2-444e-a4ee-778942275cdb"
      },
      "execution_count": 11,
      "outputs": [
        {
          "output_type": "stream",
          "name": "stdout",
          "text": [
            "Female-led: 157871\n",
            "Male-led: 49646\n",
            "Other: 14242\n",
            "\n",
            "Total: 221759\n"
          ]
        }
      ]
    },
    {
      "cell_type": "code",
      "source": [
        "### counting reviews per novel\n",
        "\n",
        "reviews_per_novel = {}\n",
        "all_novels = reviews_df['BOOK_TITLE'].values.tolist()\n",
        "unique_novels = set(all_novels)\n",
        "\n",
        "# iterates through unique novels\n",
        "for novel in unique_novels:\n",
        "  reviews_per_novel[novel] = all_novels.count(novel)\n",
        "\n",
        "# prints total unique novels and average # of reviews per total\n",
        "print(f'Total novels: {len(unique_novels)}')\n",
        "print(f'Average # of reviews per novel: {round(sum(reviews_per_novel.values())/len(unique_novels), 2)}\\n')\n",
        "\n",
        "# prints each novel's review count\n",
        "for novel in reviews_per_novel:\n",
        "  print(f'{novel}: {reviews_per_novel[novel]}')"
      ],
      "metadata": {
        "colab": {
          "base_uri": "https://localhost:8080/"
        },
        "id": "O5l6z6Q7cxOe",
        "outputId": "5936bf3b-1885-4e99-e9e0-d07284089fea"
      },
      "execution_count": 18,
      "outputs": [
        {
          "output_type": "stream",
          "name": "stdout",
          "text": [
            "Total novels: 134\n",
            "Average # of reviews per novel: 1654.92\n",
            "\n",
            "Pandemonium: 1148\n",
            "The Infinite Sea: 898\n",
            "The Messenger: 827\n",
            "Twilight: 4288\n",
            "If I Stay: 2403\n",
            "The Blood of Olympus: 993\n",
            "The Raven Boys: 1559\n",
            "The Heir: 1144\n",
            "Every Day: 1346\n",
            "Crossed: 498\n",
            "Delirium: 1252\n",
            "Insurgent: 3997\n",
            "The Elite: 2031\n",
            "All the Bright Places: 1785\n",
            "Ignite Me (Shatter Me, #3): 1270\n",
            "Illuminae: 1554\n",
            "We Were Liars: 3228\n",
            "City of Bones: 3608\n",
            "Thirteen Reasons Why: 443\n",
            "Shadow and Bone: 1875\n",
            "Tintenherz: 573\n",
            "Eleanor & Park: 4079\n",
            "Six of Crows: 1750\n",
            "The Titan's Curse: 873\n",
            "The Young Elites: 981\n",
            "City of Ashes: 1855\n",
            "The Sun Is Also a Star: 940\n",
            "The Maze Runner: 3067\n",
            "Matched: 2104\n",
            "The DUFF: Designated Ugly Fat Friend: 1187\n",
            "Catching Fire: 4547\n",
            "Before I Fall: 1430\n",
            "The Selection: 2873\n",
            "The Fault in Our Stars: 9053\n",
            "Crescendo: 778\n",
            "Scarlet: 2290\n",
            "Between Shades of Gray: 938\n",
            "The Hunger Games: 6645\n",
            "Where She Went: 1627\n",
            "Will Grayson, Will Grayson: 1252\n",
            "The Son of Neptune: 744\n",
            "Speak: 1077\n",
            "Breaking Dawn: 2349\n",
            "Uglies: 1377\n",
            "Glass Sword: 1001\n",
            "Wonder: 1991\n",
            "Siege and Storm: 1130\n",
            "Fairest: 1121\n",
            "The Death Cure: 1327\n",
            "The 5th Wave: 2320\n",
            "The Crown: 802\n",
            "City of Glass: 1918\n",
            "Clockwork Prince: 1467\n",
            "The Hate U Give: 1176\n",
            "Cinder: 3\n",
            "Everything, Everything: 2037\n",
            "The Dream Thieves: 1142\n",
            "Mockingjay: 5190\n",
            "Looking for Alaska: 3140\n",
            "Hatchet: 337\n",
            "Champion: 1252\n",
            "Aristotle and Dante Discover the Secrets of the Universe: 1754\n",
            "Days of Blood & Starlight: 1058\n",
            "Angelfall: 419\n",
            "P.S. I Still Love You: 1099\n",
            "Hopeless: 2059\n",
            "Carry On: 108\n",
            "Unravel Me (Shatter Me, #2): 1258\n",
            "Me and Earl and the Dying Girl: 1025\n",
            "Holes: 622\n",
            "The Red Pyramid: 692\n",
            "Stargirl: 568\n",
            "The Perks of Being a Wallflower: 2718\n",
            "Obsidian: 1584\n",
            "The One: 901\n",
            "Frostbite: 967\n",
            "Throne of Glass: 2077\n",
            "Heir of Fire: 1630\n",
            "Eclipse: 1693\n",
            "The Lightning Thief: 2495\n",
            "The Darkest Minds: 1289\n",
            "An Ember in the Ashes: 430\n",
            "Red Queen: 1192\n",
            "Queen of Shadows: 1447\n",
            "Marked: 1016\n",
            "Divergent: 5105\n",
            "Crooked Kingdom: 907\n",
            "Matilda: 577\n",
            "Lola and the Boy Next Door: 1158\n",
            "The Knife of Never Letting Go: 937\n",
            "To All the Boys I've Loved Before: 1567\n",
            "Reached: 824\n",
            "Shatter Me: 1657\n",
            "City of Fallen Angels: 1537\n",
            "The Unbecoming of Mara Dyer: 903\n",
            "Fangirl: 3521\n",
            "I Am Number Four: 793\n",
            "Requiem: 1142\n",
            "Daughter of Smoke & Bone: 2059\n",
            "The House of Hades: 994\n",
            "Cress: 2147\n",
            "Clockwork Princess: 1077\n",
            "The Mark of Athena: 916\n",
            "The Short Second Life of Bree Tanner: 723\n",
            "Hush, Hush: 1658\n",
            "Simon vs. the Homo Sapiens Agenda: 1127\n",
            "New Moon (Twilight, #2): 2072\n",
            "Last Sacrifice: 930\n",
            "The Wrath & the Dawn: 1362\n",
            "The Last Olympian: 273\n",
            "Anna and the French Kiss: 2189\n",
            "The Winner's Curse: 1022\n",
            "The Absolutely True Diary of a Part-Time Indian: 1143\n",
            "Unwind: 1077\n",
            "Fallen: 1434\n",
            "Winter: 1782\n",
            "Beautiful Creatures: 1793\n",
            "An Abundance of Katherines: 1358\n",
            "Isla and the Happily Ever After: 1240\n",
            "Miss Peregrine's Home for Peculiar Children: 3714\n",
            "Allegiant: 3299\n",
            "Prodigy: 1192\n",
            "The Battle of the Labyrinth: 916\n",
            "The Scorpio Races: 868\n",
            "I'll Give You the Sun: 1413\n",
            "Shadow Kiss: 979\n",
            "City of Lost Souls: 1340\n",
            "Out of My Mind: 426\n",
            "City of Heavenly Fire: 2030\n",
            "Vampire Academy: 1248\n",
            "Paper Towns: 2194\n",
            "Graceling: 1564\n",
            "The Scorch Trials: 1549\n",
            "Clockwork Angel: 2032\n"
          ]
        }
      ]
    },
    {
      "cell_type": "markdown",
      "source": [
        "# Saving files"
      ],
      "metadata": {
        "id": "gwgS9wcffeNp"
      }
    },
    {
      "cell_type": "code",
      "source": [
        "### downloading dataset\n",
        "\n",
        "# can change this if you wish\n",
        "filename = 'goodreads_reviews_dataset.csv'\n",
        "\n",
        "reviews_df.to_csv(filename, index = False)\n",
        "files.download(filename)"
      ],
      "metadata": {
        "id": "cSp2wGiefhB0"
      },
      "execution_count": null,
      "outputs": []
    }
  ]
}