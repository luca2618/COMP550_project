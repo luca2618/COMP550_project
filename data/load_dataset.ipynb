{
  "nbformat": 4,
  "nbformat_minor": 0,
  "metadata": {
    "colab": {
      "provenance": [],
      "include_colab_link": true
    },
    "kernelspec": {
      "name": "python3",
      "display_name": "Python 3"
    },
    "language_info": {
      "name": "python"
    }
  },
  "cells": [
    {
      "cell_type": "markdown",
      "metadata": {
        "id": "view-in-github",
        "colab_type": "text"
      },
      "source": [
        "<a href=\"https://colab.research.google.com/github/faithrts/AQAADI_Report/blob/main/data/load_dataset.ipynb\" target=\"_parent\"><img src=\"https://colab.research.google.com/assets/colab-badge.svg\" alt=\"Open In Colab\"/></a>"
      ]
    },
    {
      "cell_type": "markdown",
      "source": [
        "# Setup"
      ],
      "metadata": {
        "id": "Il4s_vHhFaj1"
      }
    },
    {
      "cell_type": "code",
      "execution_count": 1,
      "metadata": {
        "id": "nKJMJPjMzJj6"
      },
      "outputs": [],
      "source": [
        "### importing libraries\n",
        "\n",
        "# basic libraries\n",
        "import pandas as pd\n",
        "import math\n",
        "import matplotlib.pyplot as plt\n",
        "import json"
      ]
    },
    {
      "cell_type": "markdown",
      "source": [
        "## Helper functions"
      ],
      "metadata": {
        "id": "WgmBpDx2ocZO"
      }
    },
    {
      "cell_type": "code",
      "source": [
        "def create_histograms(x, title):\n",
        "  mean = sum(x)/len(x)\n",
        "\n",
        "  # plots histogram\n",
        "  plt.hist(x, color=\"#8ad07c\")\n",
        "  #ax.bar(range_arr, count_arr, width = 5)\n",
        "  plt.title(title)\n",
        "  plt.xlabel(\"Review count\")\n",
        "  plt.ylabel(\"Novel count\")\n",
        "  plt.axvline(x = mean, color = 'r', linestyle = '-', label = \"Mean = \" + str(round(mean, 2)))\n",
        "  plt.legend(loc = \"upper right\")\n",
        "\n",
        "  plt.show()"
      ],
      "metadata": {
        "id": "gRJGJI33odRc"
      },
      "execution_count": 2,
      "outputs": []
    },
    {
      "cell_type": "markdown",
      "source": [
        "# Importing dataset"
      ],
      "metadata": {
        "id": "1jFpPaq5PE03"
      }
    },
    {
      "cell_type": "code",
      "source": [
        "# cloning github repo\n",
        "!git clone https://github.com/luca2618/COMP550_project"
      ],
      "metadata": {
        "colab": {
          "base_uri": "https://localhost:8080/"
        },
        "id": "qw7OFWqMcn0e",
        "outputId": "098aec5a-c179-4128-a319-6dab1bf26e45"
      },
      "execution_count": 3,
      "outputs": [
        {
          "output_type": "stream",
          "name": "stdout",
          "text": [
            "Cloning into 'COMP550_project'...\n",
            "remote: Enumerating objects: 113, done.\u001b[K\n",
            "remote: Counting objects: 100% (16/16), done.\u001b[K\n",
            "remote: Compressing objects: 100% (14/14), done.\u001b[K\n",
            "remote: Total 113 (delta 7), reused 8 (delta 2), pack-reused 97\u001b[K\n",
            "Receiving objects: 100% (113/113), 643.71 MiB | 20.88 MiB/s, done.\n",
            "Resolving deltas: 100% (49/49), done.\n"
          ]
        }
      ]
    },
    {
      "cell_type": "code",
      "source": [
        "# unzipping dataset and saving it in a dataframe\n",
        "!unzip COMP550_project/data/meta_dataset.csv.zip\n",
        "!unzip COMP550_project/data/reviews_dataset.csv.zip\n",
        "\n",
        "meta_df = pd.read_csv('meta_dataset.csv')                       # e.g., user_id, date_published, rating, avg_rating\n",
        "reviews_df = pd.read_csv('reviews_dataset.csv')                 # just book_id, protagonist (gender), and review text"
      ],
      "metadata": {
        "colab": {
          "base_uri": "https://localhost:8080/"
        },
        "id": "y3I5o9aVP3YQ",
        "outputId": "c7ab6d79-964b-4c2f-d409-73db850c67d4"
      },
      "execution_count": 4,
      "outputs": [
        {
          "output_type": "stream",
          "name": "stdout",
          "text": [
            "Archive:  COMP550_project/data/meta_dataset.csv.zip\n",
            "  inflating: meta_dataset.csv        \n",
            "Archive:  COMP550_project/data/reviews_dataset.csv.zip\n",
            "  inflating: reviews_dataset.csv     \n"
          ]
        }
      ]
    },
    {
      "cell_type": "code",
      "source": [
        "# e.g., user_id, date_published, rating, avg_rating\n",
        "meta_df = pd.read_csv('meta_dataset.csv')\n",
        "\n",
        "# just book_id, protagonist (gender), and review text\n",
        "reviews_df = pd.read_csv('reviews_dataset.csv')"
      ],
      "metadata": {
        "id": "es9ixL9UgH_x"
      },
      "execution_count": 5,
      "outputs": []
    },
    {
      "cell_type": "markdown",
      "source": [
        "# Data overview"
      ],
      "metadata": {
        "id": "6is_oXJrcucw"
      }
    },
    {
      "cell_type": "code",
      "source": [
        "### counting genders of protagonists\n",
        "\n",
        "genders = reviews_df['PROTAGONIST'].values.tolist()\n",
        "\n",
        "print(f'Female-led: {genders.count(\"F\")}')\n",
        "print(f'Male-led: {genders.count(\"M\")}')\n",
        "print(f'Other: {genders.count(\"V\")}')\n",
        "\n",
        "print(f'\\nTotal reviews: {len(genders)}')"
      ],
      "metadata": {
        "colab": {
          "base_uri": "https://localhost:8080/"
        },
        "id": "usw1su6R2w8N",
        "outputId": "43e58058-9981-4bcc-99b2-6a8a6f682c46"
      },
      "execution_count": 6,
      "outputs": [
        {
          "output_type": "stream",
          "name": "stdout",
          "text": [
            "Female-led: 206528\n",
            "Male-led: 82887\n",
            "Other: 35680\n",
            "\n",
            "Total reviews: 325095\n"
          ]
        }
      ]
    },
    {
      "cell_type": "code",
      "source": [
        "### counting reviews per novel\n",
        "\n",
        "reviews_per_novel = {}\n",
        "all_novels = meta_df['BOOK_TITLE'].values.tolist()\n",
        "unique_novels = set(all_novels)\n",
        "\n",
        "# iterates through unique novels\n",
        "for novel in unique_novels:\n",
        "  reviews_per_novel[novel] = all_novels.count(novel)\n",
        "\n",
        "# prints total unique novels and average # of reviews per total\n",
        "print(f'Total novels: {len(unique_novels)}')\n",
        "print(f'Average # of reviews per novel: {round(sum(reviews_per_novel.values())/len(unique_novels), 2)}\\n')\n",
        "\n",
        "# prints each novel's review count\n",
        "for novel in reviews_per_novel:\n",
        "  print(f'{novel}: {reviews_per_novel[novel]}')"
      ],
      "metadata": {
        "colab": {
          "base_uri": "https://localhost:8080/"
        },
        "id": "O5l6z6Q7cxOe",
        "outputId": "e0871424-41f2-477b-feaa-ee438e7b1f64"
      },
      "execution_count": 7,
      "outputs": [
        {
          "output_type": "stream",
          "name": "stdout",
          "text": [
            "Total novels: 63\n",
            "Average # of reviews per novel: 5160.24\n",
            "\n",
            "Before I Fall: 3342\n",
            "Aristotle and Dante Discover the Secrets of the Universe (Aristotle and Dante Discover the Secrets of the Universe, #1): 4095\n",
            "Beautiful Creatures (Caster Chronicles, #1): 4033\n",
            "City of Bones (The Mortal Instruments, #1): 8643\n",
            "Clockwork Angel (The Infernal Devices, #1): 5017\n",
            "Hush, Hush (Hush, Hush, #1): 4118\n",
            "Will Grayson, Will Grayson: 2822\n",
            "Uglies (Uglies, #1): 3034\n",
            "Red Queen (Red Queen, #1): 6925\n",
            "Fallen (Fallen, #1): 3479\n",
            "Eleanor & Park: 9409\n",
            "Anna and the French Kiss (Anna and the French Kiss, #1): 5210\n",
            "Speak: 2391\n",
            "Holes (Holes, #1): 1436\n",
            "Thirteen Reasons Why: 5222\n",
            "Divergent (Divergent, #1): 15782\n",
            "Delirium (Delirium, #1): 2448\n",
            "Fangirl: 8199\n",
            "The Wrath and the Dawn (The Wrath and the Dawn, #1): 3432\n",
            "Miss Peregrine’s Home for Peculiar Children (Miss Peregrine’s Peculiar Children, #1): 9414\n",
            "Six of Crows (Six of Crows, #1): 4647\n",
            "Looking for Alaska: 7200\n",
            "The Hate U Give: 2966\n",
            "Obsidian (Lux, #1): 3763\n",
            "The 5th Wave (The 5th Wave, #1): 5306\n",
            "Paper Towns: 5113\n",
            "Cinder (The Lunar Chronicles, #1): 9406\n",
            "Daughter of Smoke & Bone (Daughter of Smoke & Bone, #1): 4888\n",
            "Shadow and Bone (The Grisha, #1): 4663\n",
            "Unravel Me (Shatter Me, #2): 2762\n",
            "To All the Boys I've Loved Before (To All the Boys I've Loved Before, #1): 3584\n",
            "Vampire Academy (Vampire Academy, #1): 2919\n",
            "The Maze Runner (Maze Runner, #1): 6898\n",
            "Hopeless (Hopeless, #1): 3950\n",
            "Matched (Matched, #1): 5120\n",
            "The Selection (The Selection, #1): 6852\n",
            "Graceling (Graceling Realm, #1): 3660\n",
            "Everything, Everything: 5664\n",
            "I'll Give You the Sun: 3314\n",
            "Unwind (Unwind, #1): 2414\n",
            "The Raven Boys (The Raven Cycle, #1): 3756\n",
            "The Lightning Thief (Percy Jackson and the Olympians, #1): 5868\n",
            "The Absolutely True Diary of a Part-Time Indian: 2558\n",
            "Stargirl (Stargirl, #1): 1358\n",
            "The Darkest Minds (The Darkest Minds, #1): 2740\n",
            "All the Bright Places: 4395\n",
            "Between Shades of Gray: 2101\n",
            "Marked (House of Night, #1): 2353\n",
            "Shatter Me (Shatter Me, #1): 4048\n",
            "Illuminae (The Illuminae Files, #1): 4197\n",
            "An Abundance of Katherines: 2942\n",
            "Throne of Glass (Throne of Glass, #1): 5175\n",
            "If I Stay (If I Stay, #1): 5105\n",
            "We Were Liars: 7165\n",
            "Every Day (Every Day, #1): 2973\n",
            "The Hunger Games (The Hunger Games, #1): 18267\n",
            "The Sea of Tranquility: 1467\n",
            "Twilight (Twilight, #1): 10329\n",
            "I Am Number Four (Lorien Legacies, #1): 2041\n",
            "The Fault in Our Stars: 20365\n",
            "Wonder (Wonder #1): 4415\n",
            "The Perks of Being a Wallflower: 6611\n",
            "Wonder: 1326\n"
          ]
        }
      ]
    },
    {
      "cell_type": "code",
      "source": [
        "### creating histogram of reviews per novel\n",
        "\n",
        "create_histograms([reviews_per_novel[key] for key in reviews_per_novel.keys()], 'Reviews per novel')"
      ],
      "metadata": {
        "id": "2_3VjLaln6JL",
        "outputId": "312897ac-09dc-46ad-fa76-a66d24d2b301",
        "colab": {
          "base_uri": "https://localhost:8080/",
          "height": 472
        }
      },
      "execution_count": 8,
      "outputs": [
        {
          "output_type": "display_data",
          "data": {
            "text/plain": [
              "<Figure size 640x480 with 1 Axes>"
            ],
            "image/png": "[encoded data removed]"
          },
          "metadata": {}
        }
      ]
    }
  ]
}