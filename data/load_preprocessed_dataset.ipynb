{
  "cells": [
    {
      "cell_type": "markdown",
      "metadata": {
        "colab_type": "text",
        "id": "view-in-github"
      },
      "source": [
        "<a href=\"https://colab.research.google.com/github/luca2618/COMP550_project/blob/main/data/load_preprocessed_dataset.ipynb\" target=\"_parent\"><img src=\"https://colab.research.google.com/assets/colab-badge.svg\" alt=\"Open In Colab\"/></a>"
      ]
    },
    {
      "cell_type": "markdown",
      "metadata": {
        "id": "Il4s_vHhFaj1"
      },
      "source": [
        "# Setup"
      ]
    },
    {
      "cell_type": "code",
      "execution_count": 3,
      "metadata": {
        "id": "nKJMJPjMzJj6"
      },
      "outputs": [],
      "source": [
        "### importing libraries\n",
        "\n",
        "# basic libraries\n",
        "import pandas as pd\n",
        "import math\n",
        "import matplotlib.pyplot as plt\n",
        "import json"
      ]
    },
    {
      "cell_type": "markdown",
      "metadata": {
        "id": "WgmBpDx2ocZO"
      },
      "source": [
        "## Helper functions"
      ]
    },
    {
      "cell_type": "code",
      "execution_count": 4,
      "metadata": {
        "id": "m9nJ-IAPmevH"
      },
      "outputs": [],
      "source": [
        "def load_df_from_json(filename):\n",
        "  with open(filename, 'r') as f:\n",
        "    json_dict = json.load(f)\n",
        "    df = pd.read_json(json_dict)\n",
        "  return df"
      ]
    },
    {
      "cell_type": "markdown",
      "metadata": {
        "id": "1jFpPaq5PE03"
      },
      "source": [
        "# Importing dataset"
      ]
    },
    {
      "cell_type": "code",
      "execution_count": 4,
      "metadata": {
        "colab": {
          "base_uri": "https://localhost:8080/"
        },
        "id": "qw7OFWqMcn0e",
        "outputId": "d1d400ea-878e-4622-cd6e-4709f5714d17"
      },
      "outputs": [
        {
          "name": "stdout",
          "output_type": "stream",
          "text": [
            "Cloning into 'COMP550_project'...\n",
            "remote: Enumerating objects: 102, done.\u001b[K\n",
            "remote: Counting objects: 100% (5/5), done.\u001b[K\n",
            "remote: Compressing objects: 100% (5/5), done.\u001b[K\n",
            "remote: Total 102 (delta 0), reused 5 (delta 0), pack-reused 97\u001b[K\n",
            "Receiving objects: 100% (102/102), 643.70 MiB | 34.61 MiB/s, done.\n",
            "Resolving deltas: 100% (42/42), done.\n"
          ]
        }
      ],
      "source": [
        "# cloning github repo (if in google colab)\n",
        "!git clone https://github.com/luca2618/COMP550_project"
      ]
    },
    {
      "cell_type": "code",
      "execution_count": 5,
      "metadata": {
        "colab": {
          "base_uri": "https://localhost:8080/"
        },
        "id": "y3I5o9aVP3YQ",
        "outputId": "176acf5b-e64b-479f-e44d-23991d8cf086"
      },
      "outputs": [
        {
          "name": "stdout",
          "output_type": "stream",
          "text": [
            "Archive:  COMP550_project/data/meta_dataset.csv.zip\n",
            "  inflating: meta_dataset.csv        \n",
            "Archive:  COMP550_project/data/reviews_dataset.csv.zip\n",
            "  inflating: reviews_dataset.csv     \n",
            "Archive:  COMP550_project/data/preprocessed_reviews_dataset.json.zip\n",
            "  inflating: preprocessed_reviews_dataset.json  \n",
            "  inflating: __MACOSX/._preprocessed_reviews_dataset.json  \n"
          ]
        }
      ],
      "source": [
        "### unzipping datasets\n",
        "!unzip COMP550_project/data/meta_dataset.csv.zip\n",
        "!unzip COMP550_project/data/reviews_dataset.csv.zip\n",
        "!unzip COMP550_project/data/preprocessed_reviews_dataset.json.zip"
      ]
    },
    {
      "cell_type": "code",
      "execution_count": 6,
      "metadata": {
        "id": "es9ixL9UgH_x"
      },
      "outputs": [],
      "source": [
        "### saving data in dataframes\n",
        "\n",
        "# # e.g., user_id, date_published, rating, avg_rating\n",
        "# meta_df = pd.read_csv('meta_dataset.csv')\n",
        "\n",
        "# # just book_id, protagonist (gender), and review text\n",
        "# reviews_df = pd.read_csv('reviews_dataset.csv')\n",
        "\n",
        "# just book_id, protagonist (gender), and review text tokens\n",
        "preprocessed_df = load_df_from_json('preprocessed_reviews_dataset.json')"
      ]
    },
    {
      "cell_type": "code",
      "execution_count": 7,
      "metadata": {
        "colab": {
          "base_uri": "https://localhost:8080/",
          "height": 424
        },
        "id": "DBZciiwFpijA",
        "outputId": "9bd7e89e-183b-48ce-850f-15fbfdd34535"
      },
      "outputs": [
        {
          "data": {
            "text/html": [
              "<div>\n",
              "<style scoped>\n",
              "    .dataframe tbody tr th:only-of-type {\n",
              "        vertical-align: middle;\n",
              "    }\n",
              "\n",
              "    .dataframe tbody tr th {\n",
              "        vertical-align: top;\n",
              "    }\n",
              "\n",
              "    .dataframe thead th {\n",
              "        text-align: right;\n",
              "    }\n",
              "</style>\n",
              "<table border=\"1\" class=\"dataframe\">\n",
              "  <thead>\n",
              "    <tr style=\"text-align: right;\">\n",
              "      <th></th>\n",
              "      <th>REVIEW_ID</th>\n",
              "      <th>PROTAGONIST</th>\n",
              "      <th>PREPROCESSED_REVIEW</th>\n",
              "    </tr>\n",
              "  </thead>\n",
              "  <tbody>\n",
              "    <tr>\n",
              "      <th>0</th>\n",
              "      <td>248c011811e945eca861b5c31a549291</td>\n",
              "      <td>F</td>\n",
              "      <td>[i, cracked, and, finally, picked, this, up, v...</td>\n",
              "    </tr>\n",
              "    <tr>\n",
              "      <th>1</th>\n",
              "      <td>84c0936a0f9868f38e75d2f9a5cb761e</td>\n",
              "      <td>M</td>\n",
              "      <td>[i, read, this, book, because, my, fifth, grad...</td>\n",
              "    </tr>\n",
              "    <tr>\n",
              "      <th>2</th>\n",
              "      <td>c52e231744768e9d7f939d1cbeb87666</td>\n",
              "      <td>F</td>\n",
              "      <td>[exciting, fun, entertaining]</td>\n",
              "    </tr>\n",
              "    <tr>\n",
              "      <th>3</th>\n",
              "      <td>528000001d6705f260ac8c7a58327018</td>\n",
              "      <td>F</td>\n",
              "      <td>[warner, i, need, more, warner, this, second, ...</td>\n",
              "    </tr>\n",
              "    <tr>\n",
              "      <th>4</th>\n",
              "      <td>642d0b0449fb10ab6832364aae7b65f9</td>\n",
              "      <td>F</td>\n",
              "      <td>[this, book, was, really, good, like, it, went...</td>\n",
              "    </tr>\n",
              "    <tr>\n",
              "      <th>...</th>\n",
              "      <td>...</td>\n",
              "      <td>...</td>\n",
              "      <td>...</td>\n",
              "    </tr>\n",
              "    <tr>\n",
              "      <th>325090</th>\n",
              "      <td>db3544b6ec7663c521936b104f4bfca3</td>\n",
              "      <td>M</td>\n",
              "      <td>[meraviglioso, non, so, neppure, perche, gli, ...</td>\n",
              "    </tr>\n",
              "    <tr>\n",
              "      <th>325091</th>\n",
              "      <td>aee90cd41ae086892da0863e79457b9d</td>\n",
              "      <td>M</td>\n",
              "      <td>[i, had, no, idea, what, this, book, was, abou...</td>\n",
              "    </tr>\n",
              "    <tr>\n",
              "      <th>325092</th>\n",
              "      <td>b55faa3708af811087769ff26843be51</td>\n",
              "      <td>M</td>\n",
              "      <td>[i, really, enjoyed, this, book, it, was, full...</td>\n",
              "    </tr>\n",
              "    <tr>\n",
              "      <th>325093</th>\n",
              "      <td>340698206515d2602c966bf3cf65dee0</td>\n",
              "      <td>M</td>\n",
              "      <td>[this, was, a, very, moving, story, i, hope, s...</td>\n",
              "    </tr>\n",
              "    <tr>\n",
              "      <th>325094</th>\n",
              "      <td>aba697706a18446d2e5cb65c64d8127b</td>\n",
              "      <td>M</td>\n",
              "      <td>[hands, down, the, best, book, i, read, in, th...</td>\n",
              "    </tr>\n",
              "  </tbody>\n",
              "</table>\n",
              "<p>325095 rows × 3 columns</p>\n",
              "</div>"
            ],
            "text/plain": [
              "                               REVIEW_ID PROTAGONIST  \\\n",
              "0       248c011811e945eca861b5c31a549291           F   \n",
              "1       84c0936a0f9868f38e75d2f9a5cb761e           M   \n",
              "2       c52e231744768e9d7f939d1cbeb87666           F   \n",
              "3       528000001d6705f260ac8c7a58327018           F   \n",
              "4       642d0b0449fb10ab6832364aae7b65f9           F   \n",
              "...                                  ...         ...   \n",
              "325090  db3544b6ec7663c521936b104f4bfca3           M   \n",
              "325091  aee90cd41ae086892da0863e79457b9d           M   \n",
              "325092  b55faa3708af811087769ff26843be51           M   \n",
              "325093  340698206515d2602c966bf3cf65dee0           M   \n",
              "325094  aba697706a18446d2e5cb65c64d8127b           M   \n",
              "\n",
              "                                      PREPROCESSED_REVIEW  \n",
              "0       [i, cracked, and, finally, picked, this, up, v...  \n",
              "1       [i, read, this, book, because, my, fifth, grad...  \n",
              "2                           [exciting, fun, entertaining]  \n",
              "3       [warner, i, need, more, warner, this, second, ...  \n",
              "4       [this, book, was, really, good, like, it, went...  \n",
              "...                                                   ...  \n",
              "325090  [meraviglioso, non, so, neppure, perche, gli, ...  \n",
              "325091  [i, had, no, idea, what, this, book, was, abou...  \n",
              "325092  [i, really, enjoyed, this, book, it, was, full...  \n",
              "325093  [this, was, a, very, moving, story, i, hope, s...  \n",
              "325094  [hands, down, the, best, book, i, read, in, th...  \n",
              "\n",
              "[325095 rows x 3 columns]"
            ]
          },
          "execution_count": 7,
          "metadata": {},
          "output_type": "execute_result"
        }
      ],
      "source": [
        "preprocessed_df"
      ]
    },
    {
      "cell_type": "markdown",
      "metadata": {
        "id": "gwgS9wcffeNp"
      },
      "source": [
        "# Saving files"
      ]
    },
    {
      "cell_type": "code",
      "execution_count": null,
      "metadata": {
        "id": "cSp2wGiefhB0"
      },
      "outputs": [],
      "source": [
        "### downloading dataset (google colab)\n",
        "\n",
        "'''\n",
        "from google.colab import files\n",
        "\n",
        "filename = 'goodreads_reviews_dataset.csv'\n",
        "reviews_df.to_csv(filename, index = False)\n",
        "files.download(filename)\n",
        "'''"
      ]
    }
  ],
  "metadata": {
    "colab": {
      "include_colab_link": true,
      "provenance": []
    },
    "kernelspec": {
      "display_name": "Python 3",
      "name": "python3"
    },
    "language_info": {
      "codemirror_mode": {
        "name": "ipython",
        "version": 3
      },
      "file_extension": ".py",
      "mimetype": "text/x-python",
      "name": "python",
      "nbconvert_exporter": "python",
      "pygments_lexer": "ipython3",
      "version": "3.11.4"
    }
  },
  "nbformat": 4,
  "nbformat_minor": 0
}
