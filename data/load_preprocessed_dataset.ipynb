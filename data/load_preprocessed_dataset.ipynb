{
  "nbformat": 4,
  "nbformat_minor": 0,
  "metadata": {
    "colab": {
      "provenance": [],
      "include_colab_link": true
    },
    "kernelspec": {
      "name": "python3",
      "display_name": "Python 3"
    },
    "language_info": {
      "name": "python"
    }
  },
  "cells": [
    {
      "cell_type": "markdown",
      "metadata": {
        "id": "view-in-github",
        "colab_type": "text"
      },
      "source": [
        "<a href=\"https://colab.research.google.com/github/luca2618/COMP550_project/blob/main/data/load_preprocessed_dataset.ipynb\" target=\"_parent\"><img src=\"https://colab.research.google.com/assets/colab-badge.svg\" alt=\"Open In Colab\"/></a>"
      ]
    },
    {
      "cell_type": "markdown",
      "source": [
        "# Setup"
      ],
      "metadata": {
        "id": "Il4s_vHhFaj1"
      }
    },
    {
      "cell_type": "code",
      "execution_count": 2,
      "metadata": {
        "id": "nKJMJPjMzJj6"
      },
      "outputs": [],
      "source": [
        "### importing libraries\n",
        "\n",
        "# basic libraries\n",
        "import pandas as pd\n",
        "import math\n",
        "import matplotlib.pyplot as plt\n",
        "import json"
      ]
    },
    {
      "cell_type": "markdown",
      "source": [
        "## Helper functions"
      ],
      "metadata": {
        "id": "WgmBpDx2ocZO"
      }
    },
    {
      "cell_type": "code",
      "source": [
        "def load_df_from_json(filename):\n",
        "  with open(filename, 'r') as f:\n",
        "    json_dict = json.load(f)\n",
        "    df = pd.read_json(json_dict)\n",
        "  return df"
      ],
      "metadata": {
        "id": "m9nJ-IAPmevH"
      },
      "execution_count": 3,
      "outputs": []
    },
    {
      "cell_type": "markdown",
      "source": [
        "# Importing dataset"
      ],
      "metadata": {
        "id": "1jFpPaq5PE03"
      }
    },
    {
      "cell_type": "code",
      "source": [
        "# cloning github repo (if in google colab)\n",
        "!git clone https://github.com/luca2618/COMP550_project"
      ],
      "metadata": {
        "colab": {
          "base_uri": "https://localhost:8080/"
        },
        "id": "qw7OFWqMcn0e",
        "outputId": "d1d400ea-878e-4622-cd6e-4709f5714d17"
      },
      "execution_count": 4,
      "outputs": [
        {
          "output_type": "stream",
          "name": "stdout",
          "text": [
            "Cloning into 'COMP550_project'...\n",
            "remote: Enumerating objects: 102, done.\u001b[K\n",
            "remote: Counting objects: 100% (5/5), done.\u001b[K\n",
            "remote: Compressing objects: 100% (5/5), done.\u001b[K\n",
            "remote: Total 102 (delta 0), reused 5 (delta 0), pack-reused 97\u001b[K\n",
            "Receiving objects: 100% (102/102), 643.70 MiB | 34.61 MiB/s, done.\n",
            "Resolving deltas: 100% (42/42), done.\n"
          ]
        }
      ]
    },
    {
      "cell_type": "code",
      "source": [
        "### unzipping datasets\n",
        "!unzip COMP550_project/data/meta_dataset.csv.zip\n",
        "!unzip COMP550_project/data/reviews_dataset.csv.zip\n",
        "!unzip COMP550_project/data/preprocessed_reviews_dataset.json.zip"
      ],
      "metadata": {
        "colab": {
          "base_uri": "https://localhost:8080/"
        },
        "id": "y3I5o9aVP3YQ",
        "outputId": "176acf5b-e64b-479f-e44d-23991d8cf086"
      },
      "execution_count": 5,
      "outputs": [
        {
          "output_type": "stream",
          "name": "stdout",
          "text": [
            "Archive:  COMP550_project/data/meta_dataset.csv.zip\n",
            "  inflating: meta_dataset.csv        \n",
            "Archive:  COMP550_project/data/reviews_dataset.csv.zip\n",
            "  inflating: reviews_dataset.csv     \n",
            "Archive:  COMP550_project/data/preprocessed_reviews_dataset.json.zip\n",
            "  inflating: preprocessed_reviews_dataset.json  \n",
            "  inflating: __MACOSX/._preprocessed_reviews_dataset.json  \n"
          ]
        }
      ]
    },
    {
      "cell_type": "code",
      "source": [
        "### saving data in dataframes\n",
        "\n",
        "# e.g., user_id, date_published, rating, avg_rating\n",
        "meta_df = pd.read_csv('meta_dataset.csv')\n",
        "\n",
        "# just book_id, protagonist (gender), and review text\n",
        "reviews_df = pd.read_csv('reviews_dataset.csv')\n",
        "\n",
        "# just book_id, protagonist (gender), and review text tokens\n",
        "preprocessed_df = load_df_from_json('preprocessed_reviews_dataset.json')"
      ],
      "metadata": {
        "id": "es9ixL9UgH_x"
      },
      "execution_count": 6,
      "outputs": []
    },
    {
      "cell_type": "code",
      "source": [
        "preprocessed_df"
      ],
      "metadata": {
        "colab": {
          "base_uri": "https://localhost:8080/",
          "height": 424
        },
        "id": "DBZciiwFpijA",
        "outputId": "9bd7e89e-183b-48ce-850f-15fbfdd34535"
      },
      "execution_count": 7,
      "outputs": [
        {
          "output_type": "execute_result",
          "data": {
            "text/plain": [
              "                               REVIEW_ID PROTAGONIST  \\\n",
              "0       248c011811e945eca861b5c31a549291           F   \n",
              "1       84c0936a0f9868f38e75d2f9a5cb761e           M   \n",
              "2       c52e231744768e9d7f939d1cbeb87666           F   \n",
              "3       528000001d6705f260ac8c7a58327018           F   \n",
              "4       642d0b0449fb10ab6832364aae7b65f9           F   \n",
              "...                                  ...         ...   \n",
              "325090  db3544b6ec7663c521936b104f4bfca3           M   \n",
              "325091  aee90cd41ae086892da0863e79457b9d           M   \n",
              "325092  b55faa3708af811087769ff26843be51           M   \n",
              "325093  340698206515d2602c966bf3cf65dee0           M   \n",
              "325094  aba697706a18446d2e5cb65c64d8127b           M   \n",
              "\n",
              "                                      PREPROCESSED_REVIEW  \n",
              "0       [i, cracked, and, finally, picked, this, up, v...  \n",
              "1       [i, read, this, book, because, my, fifth, grad...  \n",
              "2                           [exciting, fun, entertaining]  \n",
              "3       [warner, i, need, more, warner, this, second, ...  \n",
              "4       [this, book, was, really, good, like, it, went...  \n",
              "...                                                   ...  \n",
              "325090  [meraviglioso, non, so, neppure, perche, gli, ...  \n",
              "325091  [i, had, no, idea, what, this, book, was, abou...  \n",
              "325092  [i, really, enjoyed, this, book, it, was, full...  \n",
              "325093  [this, was, a, very, moving, story, i, hope, s...  \n",
              "325094  [hands, down, the, best, book, i, read, in, th...  \n",
              "\n",
              "[325095 rows x 3 columns]"
            ],
            "text/html": [
              "\n",
              "  <div id=\"df-6d8a9b9b-d380-444b-89c0-db97dfb58080\" class=\"colab-df-container\">\n",
              "    <div>\n",
              "<style scoped>\n",
              "    .dataframe tbody tr th:only-of-type {\n",
              "        vertical-align: middle;\n",
              "    }\n",
              "\n",
              "    .dataframe tbody tr th {\n",
              "        vertical-align: top;\n",
              "    }\n",
              "\n",
              "    .dataframe thead th {\n",
              "        text-align: right;\n",
              "    }\n",
              "</style>\n",
              "<table border=\"1\" class=\"dataframe\">\n",
              "  <thead>\n",
              "    <tr style=\"text-align: right;\">\n",
              "      <th></th>\n",
              "      <th>REVIEW_ID</th>\n",
              "      <th>PROTAGONIST</th>\n",
              "      <th>PREPROCESSED_REVIEW</th>\n",
              "    </tr>\n",
              "  </thead>\n",
              "  <tbody>\n",
              "    <tr>\n",
              "      <th>0</th>\n",
              "      <td>248c011811e945eca861b5c31a549291</td>\n",
              "      <td>F</td>\n",
              "      <td>[i, cracked, and, finally, picked, this, up, v...</td>\n",
              "    </tr>\n",
              "    <tr>\n",
              "      <th>1</th>\n",
              "      <td>84c0936a0f9868f38e75d2f9a5cb761e</td>\n",
              "      <td>M</td>\n",
              "      <td>[i, read, this, book, because, my, fifth, grad...</td>\n",
              "    </tr>\n",
              "    <tr>\n",
              "      <th>2</th>\n",
              "      <td>c52e231744768e9d7f939d1cbeb87666</td>\n",
              "      <td>F</td>\n",
              "      <td>[exciting, fun, entertaining]</td>\n",
              "    </tr>\n",
              "    <tr>\n",
              "      <th>3</th>\n",
              "      <td>528000001d6705f260ac8c7a58327018</td>\n",
              "      <td>F</td>\n",
              "      <td>[warner, i, need, more, warner, this, second, ...</td>\n",
              "    </tr>\n",
              "    <tr>\n",
              "      <th>4</th>\n",
              "      <td>642d0b0449fb10ab6832364aae7b65f9</td>\n",
              "      <td>F</td>\n",
              "      <td>[this, book, was, really, good, like, it, went...</td>\n",
              "    </tr>\n",
              "    <tr>\n",
              "      <th>...</th>\n",
              "      <td>...</td>\n",
              "      <td>...</td>\n",
              "      <td>...</td>\n",
              "    </tr>\n",
              "    <tr>\n",
              "      <th>325090</th>\n",
              "      <td>db3544b6ec7663c521936b104f4bfca3</td>\n",
              "      <td>M</td>\n",
              "      <td>[meraviglioso, non, so, neppure, perche, gli, ...</td>\n",
              "    </tr>\n",
              "    <tr>\n",
              "      <th>325091</th>\n",
              "      <td>aee90cd41ae086892da0863e79457b9d</td>\n",
              "      <td>M</td>\n",
              "      <td>[i, had, no, idea, what, this, book, was, abou...</td>\n",
              "    </tr>\n",
              "    <tr>\n",
              "      <th>325092</th>\n",
              "      <td>b55faa3708af811087769ff26843be51</td>\n",
              "      <td>M</td>\n",
              "      <td>[i, really, enjoyed, this, book, it, was, full...</td>\n",
              "    </tr>\n",
              "    <tr>\n",
              "      <th>325093</th>\n",
              "      <td>340698206515d2602c966bf3cf65dee0</td>\n",
              "      <td>M</td>\n",
              "      <td>[this, was, a, very, moving, story, i, hope, s...</td>\n",
              "    </tr>\n",
              "    <tr>\n",
              "      <th>325094</th>\n",
              "      <td>aba697706a18446d2e5cb65c64d8127b</td>\n",
              "      <td>M</td>\n",
              "      <td>[hands, down, the, best, book, i, read, in, th...</td>\n",
              "    </tr>\n",
              "  </tbody>\n",
              "</table>\n",
              "<p>325095 rows × 3 columns</p>\n",
              "</div>\n",
              "    <div class=\"colab-df-buttons\">\n",
              "\n",
              "  <div class=\"colab-df-container\">\n",
              "    <button class=\"colab-df-convert\" onclick=\"convertToInteractive('df-6d8a9b9b-d380-444b-89c0-db97dfb58080')\"\n",
              "            title=\"Convert this dataframe to an interactive table.\"\n",
              "            style=\"display:none;\">\n",
              "\n",
              "  <svg xmlns=\"http://www.w3.org/2000/svg\" height=\"24px\" viewBox=\"0 -960 960 960\">\n",
              "    <path d=\"M120-120v-720h720v720H120Zm60-500h600v-160H180v160Zm220 220h160v-160H400v160Zm0 220h160v-160H400v160ZM180-400h160v-160H180v160Zm440 0h160v-160H620v160ZM180-180h160v-160H180v160Zm440 0h160v-160H620v160Z\"/>\n",
              "  </svg>\n",
              "    </button>\n",
              "\n",
              "  <style>\n",
              "    .colab-df-container {\n",
              "      display:flex;\n",
              "      gap: 12px;\n",
              "    }\n",
              "\n",
              "    .colab-df-convert {\n",
              "      background-color: #E8F0FE;\n",
              "      border: none;\n",
              "      border-radius: 50%;\n",
              "      cursor: pointer;\n",
              "      display: none;\n",
              "      fill: #1967D2;\n",
              "      height: 32px;\n",
              "      padding: 0 0 0 0;\n",
              "      width: 32px;\n",
              "    }\n",
              "\n",
              "    .colab-df-convert:hover {\n",
              "      background-color: #E2EBFA;\n",
              "      box-shadow: 0px 1px 2px rgba(60, 64, 67, 0.3), 0px 1px 3px 1px rgba(60, 64, 67, 0.15);\n",
              "      fill: #174EA6;\n",
              "    }\n",
              "\n",
              "    .colab-df-buttons div {\n",
              "      margin-bottom: 4px;\n",
              "    }\n",
              "\n",
              "    [theme=dark] .colab-df-convert {\n",
              "      background-color: #3B4455;\n",
              "      fill: #D2E3FC;\n",
              "    }\n",
              "\n",
              "    [theme=dark] .colab-df-convert:hover {\n",
              "      background-color: #434B5C;\n",
              "      box-shadow: 0px 1px 3px 1px rgba(0, 0, 0, 0.15);\n",
              "      filter: drop-shadow(0px 1px 2px rgba(0, 0, 0, 0.3));\n",
              "      fill: #FFFFFF;\n",
              "    }\n",
              "  </style>\n",
              "\n",
              "    <script>\n",
              "      const buttonEl =\n",
              "        document.querySelector('#df-6d8a9b9b-d380-444b-89c0-db97dfb58080 button.colab-df-convert');\n",
              "      buttonEl.style.display =\n",
              "        google.colab.kernel.accessAllowed ? 'block' : 'none';\n",
              "\n",
              "      async function convertToInteractive(key) {\n",
              "        const element = document.querySelector('#df-6d8a9b9b-d380-444b-89c0-db97dfb58080');\n",
              "        const dataTable =\n",
              "          await google.colab.kernel.invokeFunction('convertToInteractive',\n",
              "                                                    [key], {});\n",
              "        if (!dataTable) return;\n",
              "\n",
              "        const docLinkHtml = 'Like what you see? Visit the ' +\n",
              "          '<a target=\"_blank\" href=https://colab.research.google.com/notebooks/data_table.ipynb>data table notebook</a>'\n",
              "          + ' to learn more about interactive tables.';\n",
              "        element.innerHTML = '';\n",
              "        dataTable['output_type'] = 'display_data';\n",
              "        await google.colab.output.renderOutput(dataTable, element);\n",
              "        const docLink = document.createElement('div');\n",
              "        docLink.innerHTML = docLinkHtml;\n",
              "        element.appendChild(docLink);\n",
              "      }\n",
              "    </script>\n",
              "  </div>\n",
              "\n",
              "\n",
              "<div id=\"df-c7eaf884-40f1-4bbd-ab52-5488ebba4de8\">\n",
              "  <button class=\"colab-df-quickchart\" onclick=\"quickchart('df-c7eaf884-40f1-4bbd-ab52-5488ebba4de8')\"\n",
              "            title=\"Suggest charts\"\n",
              "            style=\"display:none;\">\n",
              "\n",
              "<svg xmlns=\"http://www.w3.org/2000/svg\" height=\"24px\"viewBox=\"0 0 24 24\"\n",
              "     width=\"24px\">\n",
              "    <g>\n",
              "        <path d=\"M19 3H5c-1.1 0-2 .9-2 2v14c0 1.1.9 2 2 2h14c1.1 0 2-.9 2-2V5c0-1.1-.9-2-2-2zM9 17H7v-7h2v7zm4 0h-2V7h2v10zm4 0h-2v-4h2v4z\"/>\n",
              "    </g>\n",
              "</svg>\n",
              "  </button>\n",
              "\n",
              "<style>\n",
              "  .colab-df-quickchart {\n",
              "      --bg-color: #E8F0FE;\n",
              "      --fill-color: #1967D2;\n",
              "      --hover-bg-color: #E2EBFA;\n",
              "      --hover-fill-color: #174EA6;\n",
              "      --disabled-fill-color: #AAA;\n",
              "      --disabled-bg-color: #DDD;\n",
              "  }\n",
              "\n",
              "  [theme=dark] .colab-df-quickchart {\n",
              "      --bg-color: #3B4455;\n",
              "      --fill-color: #D2E3FC;\n",
              "      --hover-bg-color: #434B5C;\n",
              "      --hover-fill-color: #FFFFFF;\n",
              "      --disabled-bg-color: #3B4455;\n",
              "      --disabled-fill-color: #666;\n",
              "  }\n",
              "\n",
              "  .colab-df-quickchart {\n",
              "    background-color: var(--bg-color);\n",
              "    border: none;\n",
              "    border-radius: 50%;\n",
              "    cursor: pointer;\n",
              "    display: none;\n",
              "    fill: var(--fill-color);\n",
              "    height: 32px;\n",
              "    padding: 0;\n",
              "    width: 32px;\n",
              "  }\n",
              "\n",
              "  .colab-df-quickchart:hover {\n",
              "    background-color: var(--hover-bg-color);\n",
              "    box-shadow: 0 1px 2px rgba(60, 64, 67, 0.3), 0 1px 3px 1px rgba(60, 64, 67, 0.15);\n",
              "    fill: var(--button-hover-fill-color);\n",
              "  }\n",
              "\n",
              "  .colab-df-quickchart-complete:disabled,\n",
              "  .colab-df-quickchart-complete:disabled:hover {\n",
              "    background-color: var(--disabled-bg-color);\n",
              "    fill: var(--disabled-fill-color);\n",
              "    box-shadow: none;\n",
              "  }\n",
              "\n",
              "  .colab-df-spinner {\n",
              "    border: 2px solid var(--fill-color);\n",
              "    border-color: transparent;\n",
              "    border-bottom-color: var(--fill-color);\n",
              "    animation:\n",
              "      spin 1s steps(1) infinite;\n",
              "  }\n",
              "\n",
              "  @keyframes spin {\n",
              "    0% {\n",
              "      border-color: transparent;\n",
              "      border-bottom-color: var(--fill-color);\n",
              "      border-left-color: var(--fill-color);\n",
              "    }\n",
              "    20% {\n",
              "      border-color: transparent;\n",
              "      border-left-color: var(--fill-color);\n",
              "      border-top-color: var(--fill-color);\n",
              "    }\n",
              "    30% {\n",
              "      border-color: transparent;\n",
              "      border-left-color: var(--fill-color);\n",
              "      border-top-color: var(--fill-color);\n",
              "      border-right-color: var(--fill-color);\n",
              "    }\n",
              "    40% {\n",
              "      border-color: transparent;\n",
              "      border-right-color: var(--fill-color);\n",
              "      border-top-color: var(--fill-color);\n",
              "    }\n",
              "    60% {\n",
              "      border-color: transparent;\n",
              "      border-right-color: var(--fill-color);\n",
              "    }\n",
              "    80% {\n",
              "      border-color: transparent;\n",
              "      border-right-color: var(--fill-color);\n",
              "      border-bottom-color: var(--fill-color);\n",
              "    }\n",
              "    90% {\n",
              "      border-color: transparent;\n",
              "      border-bottom-color: var(--fill-color);\n",
              "    }\n",
              "  }\n",
              "</style>\n",
              "\n",
              "  <script>\n",
              "    async function quickchart(key) {\n",
              "      const quickchartButtonEl =\n",
              "        document.querySelector('#' + key + ' button');\n",
              "      quickchartButtonEl.disabled = true;  // To prevent multiple clicks.\n",
              "      quickchartButtonEl.classList.add('colab-df-spinner');\n",
              "      try {\n",
              "        const charts = await google.colab.kernel.invokeFunction(\n",
              "            'suggestCharts', [key], {});\n",
              "      } catch (error) {\n",
              "        console.error('Error during call to suggestCharts:', error);\n",
              "      }\n",
              "      quickchartButtonEl.classList.remove('colab-df-spinner');\n",
              "      quickchartButtonEl.classList.add('colab-df-quickchart-complete');\n",
              "    }\n",
              "    (() => {\n",
              "      let quickchartButtonEl =\n",
              "        document.querySelector('#df-c7eaf884-40f1-4bbd-ab52-5488ebba4de8 button');\n",
              "      quickchartButtonEl.style.display =\n",
              "        google.colab.kernel.accessAllowed ? 'block' : 'none';\n",
              "    })();\n",
              "  </script>\n",
              "</div>\n",
              "    </div>\n",
              "  </div>\n"
            ]
          },
          "metadata": {},
          "execution_count": 7
        }
      ]
    },
    {
      "cell_type": "markdown",
      "source": [
        "# Saving files"
      ],
      "metadata": {
        "id": "gwgS9wcffeNp"
      }
    },
    {
      "cell_type": "code",
      "source": [
        "### downloading dataset (google colab)\n",
        "\n",
        "'''\n",
        "from google.colab import files\n",
        "\n",
        "filename = 'goodreads_reviews_dataset.csv'\n",
        "reviews_df.to_csv(filename, index = False)\n",
        "files.download(filename)\n",
        "'''"
      ],
      "metadata": {
        "id": "cSp2wGiefhB0"
      },
      "execution_count": null,
      "outputs": []
    }
  ]
}